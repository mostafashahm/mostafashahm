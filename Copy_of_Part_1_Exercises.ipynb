{
  "nbformat": 4,
  "nbformat_minor": 0,
  "metadata": {
    "colab": {
      "provenance": [],
      "include_colab_link": true
    },
    "kernelspec": {
      "name": "python3",
      "display_name": "Python 3"
    },
    "language_info": {
      "name": "python"
    }
  },
  "cells": [
    {
      "cell_type": "markdown",
      "metadata": {
        "id": "view-in-github",
        "colab_type": "text"
      },
      "source": [
        "<a href=\"https://colab.research.google.com/github/mostafashahm/mostafashahm/blob/main/Copy_of_Part_1_Exercises.ipynb\" target=\"_parent\"><img src=\"https://colab.research.google.com/assets/colab-badge.svg\" alt=\"Open In Colab\"/></a>"
      ]
    },
    {
      "cell_type": "markdown",
      "source": [
        "\n",
        "<a href=\"https://www.zero-grad.com/\">\n",
        "         <img alt=\"Zero Grad\" src=\"https://lh3.googleusercontent.com/oEMY-qk_B2HW_Fponz1a3u1fLfo3NpO0VFjQKnVW8fH0v93NAWala5Kgp0nN2ubiyZdEMpwhv3Ynv7bXsB0RZ28YfEd_ZlRum75OHEu0-z7XwHfcD3sin7_SORLzg1gz52MsxD3b1WbxQWX1RdR4HP3jpbJTOuCiddl92UBcQH_x-Llx7_XuZuwb9ekN9vYnKsw6U1yL2df4IVrJEDySttzab9qlHvMO7sSekgS64jPVAmATjqXqlvrwM026dhrad-7nX-hfr2uKlUGPuo9xKzVo4EhbUP1-pKBQNPNHO6P0KcReg3NxbtKmWXRyg9LPX0xO-wwXWt9GhCcPXFV_BoY5eQXabCjR3mlr9SO01VgWplas-XF4337_JOm-bVkiaQjQca_N4Gg0hy26TvIGRnHEMIPSgudYPqhMnatoN4xAC715rP82r1svC0_qadXMZHu6D40YqWnY9ZE-iujr2p1_CetxmG-uY94UATy7o-SnxuPchG4QfZkiUgRMr8xNg86bQMuBxbCS_lOyVMwfqwbt2IunlDcZ8yyN_3SJFzFHuFOOjQolgGQrytI0mP1oTwba7je0RtBtCuTck1UCMMsZvMnJhCtWgMmuLoYTkSCzxMXbz0T3L2AClDouA_3dwM7z1gdm8Gq4v06T1KWFUs1adGNH5fuj-pUHEfW4drzzXgolPH5SehqhaNsqdMttCPUzNPIIEjwfULyQi7nlP-w-qydK82mdhdmjQhrprfoGtsPckJkI1Tur60uZI7nLkES5cE3tQrGualSNArRkkU8KN4tStZ0CkmqZNkAlMbfAJSYBD7tDxhGSg922AdLevSLJMTUyg6KuHoY30r7zH1Z8fE0R8aFZL2LJl54OU_tkXEdlFlSnZTOdB-PVTj-yagpt99SetLnQIX5SS_Vxc0BNPKjUZG0oEHYbIxkbZN1O7Rg78xe-thytngS0byfuaeP2X4NYjg29FIffnn72bAUs9Ii0N2mOpABLg1uQMN4MyAa1Mbd_=w1300-h200-no?authuser=1\" >\n",
        "      </a>"
      ],
      "metadata": {
        "id": "hMV-7TpxbEDG"
      }
    },
    {
      "cell_type": "markdown",
      "source": [
        "# **Exercise 1:**\n",
        "\n",
        "Write a program to accept two numbers from the user and print:\n",
        "Summation, Subtraction, multiplication and division"
      ],
      "metadata": {
        "id": "aZ8_lbIwAe4u"
      }
    },
    {
      "cell_type": "code",
      "source": [
        "a = float(input('please enter the value for a'))\n",
        "b = float(input('please enter the value for b'))\n",
        "print ('addition = ', a+b)\n",
        "print ('subtraction = ', a-b)\n",
        "print ('multiplication = ', a*b)\n",
        "print ('division = ', a/b)\n",
        "\n",
        "\n"
      ],
      "metadata": {
        "id": "lx25L6IUW59l",
        "outputId": "fd14aa8e-926a-499a-e505-9258adc47d11",
        "colab": {
          "base_uri": "https://localhost:8080/"
        }
      },
      "execution_count": null,
      "outputs": [
        {
          "output_type": "stream",
          "name": "stdout",
          "text": [
            "please enter the value for a100\n",
            "please enter the value for b10\n",
            "addition =  110.0\n",
            "subtraction =  90.0\n",
            "multiplication =  1000.0\n",
            "division =  10.0\n"
          ]
        }
      ]
    },
    {
      "cell_type": "markdown",
      "source": [
        "# **Exercise 2:**\n",
        "\n",
        "Write a program to accept three numbers from the user and print:\n",
        "Min. Number and Max. Number"
      ],
      "metadata": {
        "id": "nTILOQqED5j7"
      }
    },
    {
      "cell_type": "code",
      "source": [
        "a = float(input('please enter the first value '))\n",
        "b = float(input('please enter the second value'))\n",
        "c = float(input('please enter the third value'))\n",
        "num = [a,b,c]\n",
        "print ('list Numbers are', num )\n",
        "print ('Max Number = ', max(num))\n",
        "print ('Minimum Number = ',min(num))"
      ],
      "metadata": {
        "id": "zV-gWMQYYH7Y",
        "outputId": "041bc77e-b67a-4567-9f83-806aded5f2ce",
        "colab": {
          "base_uri": "https://localhost:8080/"
        }
      },
      "execution_count": null,
      "outputs": [
        {
          "output_type": "stream",
          "name": "stdout",
          "text": [
            "please enter the first value 1\n",
            "please enter the second value2\n",
            "please enter the third value4\n",
            "list Numbers are [1.0, 2.0, 4.0]\n",
            "Max Number =  4.0\n",
            "Minimum Number =  1.0\n"
          ]
        }
      ]
    },
    {
      "cell_type": "markdown",
      "source": [
        "# **Exercise 3:**\n",
        "\n",
        "Write a program to accept Name, age and salary from the user and print like this:\n",
        "\n",
        "> `My name is Ali.I am 30 years old. My salary is 1155.5$`"
      ],
      "metadata": {
        "id": "LoMkt36AwnfN"
      }
    },
    {
      "cell_type": "code",
      "source": [
        "name = input('please enter your name ')\n",
        "age = float(input('please enter your age'))\n",
        "salary = float(input('please enter your salary'))\n",
        "print ('My name is', name, 'I am' , age, ' years old. My salary is ', salary, 'usd.' )"
      ],
      "metadata": {
        "id": "Vmc1wDQxZyR9",
        "outputId": "59a6cb2f-bd71-4f14-94b7-4b70994e9914",
        "colab": {
          "base_uri": "https://localhost:8080/"
        }
      },
      "execution_count": null,
      "outputs": [
        {
          "output_type": "stream",
          "name": "stdout",
          "text": [
            "please enter your name ahmed\n",
            "please enter your age30\n",
            "please enter your salary2500\n",
            "My name is ahmed I am 30.0  years old. My salary is  2500.0 usd\n"
          ]
        }
      ]
    },
    {
      "cell_type": "markdown",
      "source": [
        "# **Exercise 4:**\n",
        "\n",
        "Write a program to accept temperature in Faherenheit and print it in Celsius.\n",
        "> C = (F - 32) * 5/9"
      ],
      "metadata": {
        "id": "m-gOAL9Xwnh4"
      }
    },
    {
      "cell_type": "code",
      "source": [
        "temp_Feh_degree = float(input('please inter the temperature fehrenheit degree'))\n",
        "temp_cel_degree = (temp_Feh_degree - 32) * 5/9\n",
        "print ('temperature Celsius degree is', int(temp_cel_degree) )"
      ],
      "metadata": {
        "id": "hnUF9XxDcCYG",
        "outputId": "1609bc82-63df-4c94-8db6-351886417603",
        "colab": {
          "base_uri": "https://localhost:8080/"
        }
      },
      "execution_count": null,
      "outputs": [
        {
          "output_type": "stream",
          "name": "stdout",
          "text": [
            "please inter the temperature fehrenheit degree100\n",
            "temperature Celsius degree is 37\n"
          ]
        }
      ]
    },
    {
      "cell_type": "markdown",
      "source": [
        "# **Exercise 5:**\n",
        "\n",
        "Write a program to chek if a word is palindrome (read from right as read from left, as \"eye\", \"radar\" and \"madam\").\n",
        "> Print `True` or `False`"
      ],
      "metadata": {
        "id": "RKiPm12Kwnk6"
      }
    },
    {
      "cell_type": "code",
      "source": [
        "word = input ('please write a palindrome word')\n",
        "word_palindrome_check = word == word[::-1]\n",
        "print ('the palindrome check for the word', word, 'is', word_palindrome_check )"
      ],
      "metadata": {
        "id": "RDllcyHZpThS",
        "outputId": "1c2196a8-ba70-44b6-e08f-5727c1c72052",
        "colab": {
          "base_uri": "https://localhost:8080/"
        }
      },
      "execution_count": null,
      "outputs": [
        {
          "output_type": "stream",
          "name": "stdout",
          "text": [
            "please write a palindrome wordtwo\n",
            "the palindrome check for the word two is False\n"
          ]
        }
      ]
    },
    {
      "cell_type": "markdown",
      "source": [
        "# **Exercise 6:**\n",
        "\n",
        "Write a program to remove the \"apple\" item from your basket\n",
        "\n",
        "> `basket = {'Orange' : 10, 'Banana': 15, 'apple' : 20}`"
      ],
      "metadata": {
        "id": "HRYlC5Rownnu"
      }
    },
    {
      "cell_type": "code",
      "source": [
        "basket = {'Orange' : 10, 'Banana': 15, 'apple' : 20}\n",
        "del basket['apple']\n",
        "print(basket)"
      ],
      "metadata": {
        "id": "-ZsXM-6fnQj-",
        "outputId": "146ac3ff-226c-4196-f759-222f28b163b5",
        "colab": {
          "base_uri": "https://localhost:8080/"
        }
      },
      "execution_count": null,
      "outputs": [
        {
          "output_type": "stream",
          "name": "stdout",
          "text": [
            "{'Orange': 10, 'Banana': 15}\n"
          ]
        }
      ]
    },
    {
      "cell_type": "markdown",
      "source": [
        "# **Exercise 7:**\n",
        "\n",
        "Write a program to return a new set of identical items from two sets\n",
        "\n",
        "> * `Input : s1= {1,3,5,7,2,6,8},  s2 = {5,8,11,14,1}`\n",
        "* `Output : {1, 5, 8}`"
      ],
      "metadata": {
        "id": "qoAF5_rc9rtz"
      }
    },
    {
      "cell_type": "code",
      "source": [
        "s1= {1,3,5,7,2,6,8}\n",
        "s2 = {5,8,11,14,1}\n",
        "intersection_set = s1.intersection(s2)\n",
        "print (sorted(intersection_set))\n",
        "\n"
      ],
      "metadata": {
        "id": "HIHK5yo4o3Hl",
        "outputId": "f3f48ee2-c194-48b2-bd70-05d0e1175ecf",
        "colab": {
          "base_uri": "https://localhost:8080/"
        }
      },
      "execution_count": null,
      "outputs": [
        {
          "output_type": "stream",
          "name": "stdout",
          "text": [
            "[1, 5, 8]\n"
          ]
        }
      ]
    },
    {
      "cell_type": "markdown",
      "source": [
        "# **Exercise 8:**\n",
        "\n",
        "Write a program to return a new set of Unique items from two sets\n",
        "\n",
        "> * `Input : s1= {1,3,5,7,2,6,8},  s2 = {5,8,11,14,1}`\n",
        "* `Output : {1, 2, 3, 5, 6, 7, 8, 11, 14}`"
      ],
      "metadata": {
        "id": "S81APpMT-p4x"
      }
    },
    {
      "cell_type": "code",
      "source": [
        "s1= {1,3,5,7,2,6,8}\n",
        "s2 = {5,8,11,14,1}\n",
        "print (s1.union(s2))"
      ],
      "metadata": {
        "id": "hqxX6yNeszWO",
        "outputId": "cbcfb281-f267-4306-e406-ed936c94df35",
        "colab": {
          "base_uri": "https://localhost:8080/"
        }
      },
      "execution_count": null,
      "outputs": [
        {
          "output_type": "stream",
          "name": "stdout",
          "text": [
            "{1, 2, 3, 5, 6, 7, 8, 11, 14}\n"
          ]
        }
      ]
    },
    {
      "cell_type": "markdown",
      "source": [
        "# **Exercise 9:**\n",
        "\n",
        "Write a program to Grab \"hello\"\n",
        "\n",
        "`d = {'k1':[{'nest_key':['this is deep',['hello']]}]}`\n",
        "\n"
      ],
      "metadata": {
        "id": "jX6u-tE6GhUj"
      }
    },
    {
      "cell_type": "code",
      "source": [
        "d = {'k1':[{'nest_key':['this is deep',['hello']]}]}\n",
        "\n",
        "print(d['k1'][0]['nest_key'][1])"
      ],
      "metadata": {
        "id": "pmfiRhO1tJuy",
        "outputId": "a8a6a362-3ac3-44a7-af7d-f88db7925e10",
        "colab": {
          "base_uri": "https://localhost:8080/"
        }
      },
      "execution_count": null,
      "outputs": [
        {
          "output_type": "stream",
          "name": "stdout",
          "text": [
            "['hello']\n"
          ]
        }
      ]
    },
    {
      "cell_type": "markdown",
      "source": [
        "# **Exercise 10:**\n",
        "\n",
        "Write a program to return a list of unique values of a list\n",
        "> * `Input   :[1,2,3,1,2,3,4,5,6,4,5,6]`\n",
        "* `Output  : [1,2,3,4,5,6]`"
      ],
      "metadata": {
        "id": "VY6rVrZRHfRX"
      }
    },
    {
      "cell_type": "code",
      "source": [
        "list1 = [1,2,3,1,2,3,4,5,6,4,5,6]\n",
        "unique_list = set(list1)\n",
        "print (unique_list)"
      ],
      "metadata": {
        "id": "0p-T4_4JvQfV",
        "outputId": "15dc20d9-e5eb-4db4-e95b-1b03e4b09877",
        "colab": {
          "base_uri": "https://localhost:8080/"
        }
      },
      "execution_count": null,
      "outputs": [
        {
          "output_type": "stream",
          "name": "stdout",
          "text": [
            "{1, 2, 3, 4, 5, 6}\n"
          ]
        }
      ]
    },
    {
      "cell_type": "markdown",
      "source": [
        "# **Exercise 11:**\n",
        "\n",
        "Modify the code below"
      ],
      "metadata": {
        "id": "R8HseONe32-o"
      }
    },
    {
      "cell_type": "code",
      "source": [
        "books = {\n",
        "    \"Life of Pi\": \"Adventure Fiction\",\n",
        "    \"The Three Musketeers\": \"Historical Adventure\",\n",
        "    \"Watchmen\": \"Comics\",\n",
        "    \"Bird Box\": \"Horror\",\n",
        "    \"Harry Potter\":\"Fantasy Fiction\",\n",
        "    \"Good Omens\": \"Comedy\"\n",
        "}\n",
        "\n",
        "name = input()\n",
        "category = books.get(name)\n",
        "if category:\n",
        "  print ('for the book name : ',name, 'you can find it in categort', category)\n",
        "else:\n",
        "  for book, cat in books.items():\n",
        "    if name == cat:\n",
        "        print ('for the category name : ',cat, 'you can find a book called',\"'\", book,\"'.\")\n",
        "        break\n",
        "  else:\n",
        "    print ('book not found')\n",
        "\n"
      ],
      "metadata": {
        "id": "dkpXuiX283Mm",
        "colab": {
          "base_uri": "https://localhost:8080/"
        },
        "outputId": "8466049c-cf73-456c-8528-056ea2eec29e"
      },
      "execution_count": 40,
      "outputs": [
        {
          "output_type": "stream",
          "name": "stdout",
          "text": [
            "Comedy\n",
            "for the category name :  Comedy you can find a book called ' Good Omens '.\n"
          ]
        }
      ]
    },
    {
      "cell_type": "markdown",
      "source": [
        "# **Exercise 12:**\n",
        "\n",
        "Write a program to calculate the Euclidean Distance between two points\n",
        "\n",
        "![](https://miro.medium.com/max/277/1*IVy5Ozk6e3sQtG_wuKo19A.jpeg)\n"
      ],
      "metadata": {
        "id": "8XSxNew9332H"
      }
    },
    {
      "cell_type": "code",
      "source": [
        "p1 = (x1, y1)\n",
        "p2 = (x2, y2)\n",
        "euc_dist = (((p2[0]-p1[0])**2)+((p2[1]-p1[1])**2))**0.5\n",
        "print (euc_dist)"
      ],
      "metadata": {
        "colab": {
          "base_uri": "https://localhost:8080/"
        },
        "id": "k7sGGkXF7IsY",
        "outputId": "92465ccf-0f7f-433c-df82-5dab79f49f95"
      },
      "execution_count": 43,
      "outputs": [
        {
          "output_type": "stream",
          "name": "stdout",
          "text": [
            "2.8284271247461903\n"
          ]
        }
      ]
    },
    {
      "cell_type": "code",
      "source": [
        "p1 = (1,2)\n",
        "p2 = (3,4)\n",
        "\n",
        "#calculate distance"
      ],
      "metadata": {
        "id": "N97Ls9uz90bM"
      },
      "execution_count": null,
      "outputs": []
    },
    {
      "cell_type": "code",
      "source": [
        "p1 = (1, 2)\n",
        "p2 = (3, 4)\n",
        "euc_dist = (((p2[0]-p1[0])**2)+((p2[1]-p1[1])**2))**0.5\n",
        "print (euc_dist)"
      ],
      "metadata": {
        "colab": {
          "base_uri": "https://localhost:8080/"
        },
        "id": "H_EXN1up_p7y",
        "outputId": "ae91dfb5-6b94-4219-9705-f9e258babe20"
      },
      "execution_count": 44,
      "outputs": [
        {
          "output_type": "stream",
          "name": "stdout",
          "text": [
            "2.8284271247461903\n"
          ]
        }
      ]
    },
    {
      "cell_type": "markdown",
      "source": [
        "# **Exercise 13:**\n",
        "\n",
        "Write a program to calculate how many sentances and words in the following paragraph"
      ],
      "metadata": {
        "id": "UFXwSrfN335T"
      }
    },
    {
      "cell_type": "code",
      "source": [
        "paragraph = '''Hello Friends. This is a light exercise. Enjoy!'''\n",
        "\n",
        "# calculate No. of Sentences & No. of words"
      ],
      "metadata": {
        "id": "nn0apEJp-X48"
      },
      "execution_count": null,
      "outputs": []
    },
    {
      "cell_type": "code",
      "source": [
        "paragraph = '''Hello Friends. This is a light exercise. Enjoy!'''\n",
        "sentences = paragraph.split('.')\n",
        "words = paragraph.split(' ')\n",
        "print('number of sentences is ',len(sentences))\n",
        "print('number of words is ',len(words))"
      ],
      "metadata": {
        "colab": {
          "base_uri": "https://localhost:8080/"
        },
        "id": "mQMX8_nGBXtq",
        "outputId": "bd32dc43-96f2-4b7e-e120-5774e63f501d"
      },
      "execution_count": 52,
      "outputs": [
        {
          "output_type": "stream",
          "name": "stdout",
          "text": [
            "number of sentences is  3\n",
            "number of words is  8\n"
          ]
        }
      ]
    }
  ]
}