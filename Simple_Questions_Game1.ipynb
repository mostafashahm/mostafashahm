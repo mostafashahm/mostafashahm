{
  "nbformat": 4,
  "nbformat_minor": 0,
  "metadata": {
    "colab": {
      "provenance": [],
      "authorship_tag": "ABX9TyP1OEvTMjTaTkdpzf419kzX",
      "include_colab_link": true
    },
    "kernelspec": {
      "name": "python3",
      "display_name": "Python 3"
    },
    "language_info": {
      "name": "python"
    }
  },
  "cells": [
    {
      "cell_type": "markdown",
      "metadata": {
        "id": "view-in-github",
        "colab_type": "text"
      },
      "source": [
        "<a href=\"https://colab.research.google.com/github/mostafashahm/mostafashahm/blob/main/Simple_Questions_Game1.ipynb\" target=\"_parent\"><img src=\"https://colab.research.google.com/assets/colab-badge.svg\" alt=\"Open In Colab\"/></a>"
      ]
    },
    {
      "cell_type": "code",
      "source": [
        "playing = input ('do you want to play? ')\n",
        "if playing.lower() != ('Yes'):\n",
        "  quit()\n",
        "print ('Great let\\'s start the game!' )\n",
        "score = 0\n",
        "answer = input(\"What does CPU stand for? \")\n",
        "if answer.lower() == ('Central Processing Unit'):\n",
        "  print ('Correct!')\n",
        "  score +=1\n",
        "else:\n",
        "  print ('Incorrect, the correct answer is \\\"Central Processing Unit\\\"')\n",
        "answer = input(\"What does GPU stand for? \")\n",
        "if answer.lower() == ('graphic processing unit'):\n",
        "  print ('Correct!')\n",
        "  score +=1\n",
        "else:\n",
        "  print ('Incorrect, the correct answer is \\\"Graphic Processing Unit\\\"')\n",
        "answer = input(\"What does RAM stand for? \")\n",
        "if answer.lower() == ('random access memory'):\n",
        "  print ('Correct')\n",
        "  score +=1\n",
        "else:\n",
        "  print ('Incorrect, the correct answer is \\\"Random Access Memory\\\"')\n",
        "answer = input(\"What does PSU stand for? \")\n",
        "if answer.lower() == ('power supply'):\n",
        "  print ('Correct')\n",
        "  score +=1\n",
        "else:\n",
        "  print ('Incorrect, the correct answer is \\\"Power Supply\\\"')\n",
        "print (' your total score is finally', score, 'and your percentage is', score / 4 * 100, '%.')"
      ],
      "metadata": {
        "id": "Bj9Zp_pzvl_9",
        "colab": {
          "base_uri": "https://localhost:8080/"
        },
        "outputId": "2dc41d56-d8b1-4cd5-9b5b-d0a244041d13"
      },
      "execution_count": 1,
      "outputs": [
        {
          "output_type": "stream",
          "name": "stdout",
          "text": [
            "do you want to play? yes\n",
            "Great let's start the game!\n",
            "What does CPU stand for? central processing unit\n",
            "Incorrect, the correct answer is \"Central Processing Unit\"\n",
            "What does GPU stand for? graphic processing unit\n",
            "Correct!\n",
            "What does RAM stand for? random access memory\n",
            "Correct\n",
            "What does PSU stand for? power supply\n",
            "Correct\n",
            " your total score is finally 3 and your percentage is 75.0 %.\n"
          ]
        }
      ]
    }
  ]
}