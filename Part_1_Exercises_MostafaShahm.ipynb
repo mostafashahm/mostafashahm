{
  "nbformat": 4,
  "nbformat_minor": 0,
  "metadata": {
    "colab": {
      "provenance": [],
      "include_colab_link": true
    },
    "kernelspec": {
      "name": "python3",
      "display_name": "Python 3"
    },
    "language_info": {
      "name": "python"
    }
  },
  "cells": [
    {
      "cell_type": "markdown",
      "metadata": {
        "id": "view-in-github",
        "colab_type": "text"
      },
      "source": [
        "<a href=\"https://colab.research.google.com/github/mostafashahm/mostafashahm/blob/main/Part_1_Exercises_MostafaShahm.ipynb\" target=\"_parent\"><img src=\"https://colab.research.google.com/assets/colab-badge.svg\" alt=\"Open In Colab\"/></a>"
      ]
    },
    {
      "cell_type": "markdown",
      "source": [
        "\n",
        "<a href=\"https://www.zero-grad.com/\">\n",
        "         <img alt=\"Zero Grad\" src=\"https://lh3.googleusercontent.com/oEMY-qk_B2HW_Fponz1a3u1fLfo3NpO0VFjQKnVW8fH0v93NAWala5Kgp0nN2ubiyZdEMpwhv3Ynv7bXsB0RZ28YfEd_ZlRum75OHEu0-z7XwHfcD3sin7_SORLzg1gz52MsxD3b1WbxQWX1RdR4HP3jpbJTOuCiddl92UBcQH_x-Llx7_XuZuwb9ekN9vYnKsw6U1yL2df4IVrJEDySttzab9qlHvMO7sSekgS64jPVAmATjqXqlvrwM026dhrad-7nX-hfr2uKlUGPuo9xKzVo4EhbUP1-pKBQNPNHO6P0KcReg3NxbtKmWXRyg9LPX0xO-wwXWt9GhCcPXFV_BoY5eQXabCjR3mlr9SO01VgWplas-XF4337_JOm-bVkiaQjQca_N4Gg0hy26TvIGRnHEMIPSgudYPqhMnatoN4xAC715rP82r1svC0_qadXMZHu6D40YqWnY9ZE-iujr2p1_CetxmG-uY94UATy7o-SnxuPchG4QfZkiUgRMr8xNg86bQMuBxbCS_lOyVMwfqwbt2IunlDcZ8yyN_3SJFzFHuFOOjQolgGQrytI0mP1oTwba7je0RtBtCuTck1UCMMsZvMnJhCtWgMmuLoYTkSCzxMXbz0T3L2AClDouA_3dwM7z1gdm8Gq4v06T1KWFUs1adGNH5fuj-pUHEfW4drzzXgolPH5SehqhaNsqdMttCPUzNPIIEjwfULyQi7nlP-w-qydK82mdhdmjQhrprfoGtsPckJkI1Tur60uZI7nLkES5cE3tQrGualSNArRkkU8KN4tStZ0CkmqZNkAlMbfAJSYBD7tDxhGSg922AdLevSLJMTUyg6KuHoY30r7zH1Z8fE0R8aFZL2LJl54OU_tkXEdlFlSnZTOdB-PVTj-yagpt99SetLnQIX5SS_Vxc0BNPKjUZG0oEHYbIxkbZN1O7Rg78xe-thytngS0byfuaeP2X4NYjg29FIffnn72bAUs9Ii0N2mOpABLg1uQMN4MyAa1Mbd_=w1300-h200-no?authuser=1\" >\n",
        "      </a>"
      ],
      "metadata": {
        "id": "hMV-7TpxbEDG"
      }
    },
    {
      "cell_type": "markdown",
      "source": [
        "**Exercise 1:**\n",
        "\n",
        "Write a program to accept two numbers from the user and print:\n",
        "Summation, Subtraction, multiplication and division"
      ],
      "metadata": {
        "id": "aZ8_lbIwAe4u"
      }
    },
    {
      "cell_type": "code",
      "source": [
        "a = (input(\"what is the first number?  \"))\n",
        "b = (input(\"what is the second number?  \"))\n",
        "if not (a or b).isdigit():\n",
        "  print (\"numbers not strings..\")\n",
        "  a = int(input(\"what is the first number?  \"))\n",
        "  b = int(input(\"what is the second number?  \"))\n",
        "sum = int(a)+int (b)\n",
        "subt = int(a)-int (b)\n",
        "mult = int(a)*int (b)\n",
        "div = int(a)/int (b)\n",
        "print(f\"the summation of both numbers is {sum}\")\n",
        "print (f\"the subtraction of both numbers is {subt}\")\n",
        "print (f\"the multiplication of both numbers is {mult}\")\n",
        "print (f\"the division of both numbers is  {div}\")"
      ],
      "metadata": {
        "id": "ug0waHecX_Jf"
      },
      "execution_count": null,
      "outputs": []
    },
    {
      "cell_type": "markdown",
      "source": [
        "10**Exercise 2:**\n",
        "\n",
        "Write a program to accept three numbers from the user and print:\n",
        "Min. Number and Max. Number"
      ],
      "metadata": {
        "id": "nTILOQqED5j7"
      }
    },
    {
      "cell_type": "code",
      "source": [
        "nums = []\n",
        "a = int(input(\"what is the first number?  \"))\n",
        "b = int(input(\"what is the second number?  \"))\n",
        "c = int(input(\"what is the third number?  \"))\n",
        "nums.append(a)\n",
        "nums.append(b)\n",
        "nums.append(c)\n",
        "print (f\"the maximum number is {max(nums)}\")\n",
        "print (f\"the minimum number is {min(nums)}\")\n",
        "\n",
        "\n"
      ],
      "metadata": {
        "id": "Tvrh608vtrFx"
      },
      "execution_count": null,
      "outputs": []
    },
    {
      "cell_type": "markdown",
      "source": [
        "558**Exercise 3:**\n",
        "\n",
        "Write a program to accept Name, age and salary from the user and print like this:\n",
        "\n",
        "> `My name is Ali.I am 30 years old. My salary is 1155.5$`"
      ],
      "metadata": {
        "id": "LoMkt36AwnfN"
      }
    },
    {
      "cell_type": "code",
      "source": [
        "name = input (\"What is your full name? \")\n",
        "age = int (input(\"How old are you?\"))\n",
        "salary = int(input(\"how much is your monthly salary in USD? \"))\n",
        "print (f\"My name is {name}. I am {age} years old. My Salary is {salary} $ \")\n"
      ],
      "metadata": {
        "id": "K6jJVRiuxo2c"
      },
      "execution_count": null,
      "outputs": []
    },
    {
      "cell_type": "markdown",
      "source": [
        "**Exercise 4:**\n",
        "\n",
        "Write a program to accept temperature in Faherenheit and print it in Celsius.\n",
        "> C = (F - 32) * 5/9"
      ],
      "metadata": {
        "id": "m-gOAL9Xwnh4"
      }
    },
    {
      "cell_type": "code",
      "source": [
        "fdegree = float(input(\"what is the  fahrenheit degree you whant to convert to celcious ?  \"))\n",
        "cdegree = round (((fdegree - 32) * 5/9), 2)\n",
        "print (f\" the equivilant  degree for {fdegree} fahrenheit is {cdegree} celcious \")\n"
      ],
      "metadata": {
        "id": "m8D0Iz-EzcGI"
      },
      "execution_count": null,
      "outputs": []
    },
    {
      "cell_type": "markdown",
      "source": [
        " **Exercise 5:**\n",
        "\n",
        "Write a program to chek if a word is palindrome (read from right as read from left, as \"eye\", \"radar\" and \"madam\"). \n",
        "> Print `True` or `False`"
      ],
      "metadata": {
        "id": "RKiPm12Kwnk6"
      }
    },
    {
      "cell_type": "code",
      "source": [
        "word = input (\"Please enter the palindrome word \")\n",
        "rev_word = word [::-1]\n",
        "result = word == rev_word\n",
        "print (f\" The palindrome test result is {result}\")"
      ],
      "metadata": {
        "id": "krboFech4Zhe"
      },
      "execution_count": null,
      "outputs": []
    },
    {
      "cell_type": "markdown",
      "source": [
        " **Exercise 6:**\n",
        "\n",
        "Write a program to remove the \"apple\" item from your basket\n",
        "\n",
        "> `basket = {'Orange' : 10, 'Banana': 15, 'apple' : 20}`"
      ],
      "metadata": {
        "id": "HRYlC5Rownnu"
      }
    },
    {
      "cell_type": "code",
      "source": [
        "basket = {'Orange' : 10, 'Banana': 15, 'apple' : 20}\n",
        "del basket['apple']\n",
        "basket"
      ],
      "metadata": {
        "id": "P6-Vd-hF6BM7"
      },
      "execution_count": null,
      "outputs": []
    },
    {
      "cell_type": "markdown",
      "source": [
        " **Exercise 7:**\n",
        "\n",
        "Write a program to return a new set of identical items from two sets\n",
        "\n",
        "> * `Input : s1= {1,3,5,7,2,6,8},  s2 = {5,8,11,14,1}`\n",
        "* `Output : {1, 5, 8}`"
      ],
      "metadata": {
        "id": "qoAF5_rc9rtz"
      }
    },
    {
      "cell_type": "code",
      "source": [
        "s1= {1,3,5,7,2,6,8}\n",
        "s2 = {5,8,11,14,1}\n",
        "s1. intersection(s2)"
      ],
      "metadata": {
        "colab": {
          "base_uri": "https://localhost:8080/"
        },
        "id": "cm4TostH664w",
        "outputId": "fbdf340f-f80f-489b-9b81-13334f3fce55"
      },
      "execution_count": null,
      "outputs": [
        {
          "output_type": "execute_result",
          "data": {
            "text/plain": [
              "{1, 5, 8}"
            ]
          },
          "metadata": {},
          "execution_count": 37
        }
      ]
    },
    {
      "cell_type": "markdown",
      "source": [
        " **Exercise 8:**\n",
        "\n",
        "Write a program to return a new set of Unique items from two sets\n",
        "\n",
        "> * `Input : s1= {1,3,5,7,2,6,8},  s2 = {5,8,11,14,1}`\n",
        "* `Output : {1, 2, 3, 5, 6, 7, 8, 11, 14}`"
      ],
      "metadata": {
        "id": "S81APpMT-p4x"
      }
    },
    {
      "cell_type": "code",
      "source": [
        "s1= {1,3,5,7,2,6,8}\n",
        "s2 = {5,8,11,14,1}\n",
        "s1.union(s2)"
      ],
      "metadata": {
        "colab": {
          "base_uri": "https://localhost:8080/"
        },
        "id": "xVOjFhLi86R4",
        "outputId": "8dec3f05-eb0f-4d8d-f4f5-b5e989372227"
      },
      "execution_count": null,
      "outputs": [
        {
          "output_type": "execute_result",
          "data": {
            "text/plain": [
              "{1, 2, 3, 5, 6, 7, 8, 11, 14}"
            ]
          },
          "metadata": {},
          "execution_count": 36
        }
      ]
    },
    {
      "cell_type": "markdown",
      "source": [
        " **Exercise 9:**\n",
        "\n",
        "Write a program to Grab \"hello\"\n",
        "\n",
        "`d = {'k1':[{'nest_key':['this is deep',['hello']]}]}`\n",
        "\n"
      ],
      "metadata": {
        "id": "jX6u-tE6GhUj"
      }
    },
    {
      "cell_type": "code",
      "source": [
        "d = {'k1':[{'nest_key':['this is deep',['hello']]}]}\n",
        "d['k1'][0]['nest_key'][1]"
      ],
      "metadata": {
        "colab": {
          "base_uri": "https://localhost:8080/"
        },
        "id": "wLsi54ca9RxA",
        "outputId": "d601858f-a8e8-4f50-de73-4bbb227c1b77"
      },
      "execution_count": null,
      "outputs": [
        {
          "output_type": "execute_result",
          "data": {
            "text/plain": [
              "['hello']"
            ]
          },
          "metadata": {},
          "execution_count": 43
        }
      ]
    },
    {
      "cell_type": "markdown",
      "source": [
        " **Exercise 10:**\n",
        "\n",
        "Write a program to return a list of unique values of a list\n",
        "> * `Input   :[1,2,3,1,2,3,4,5,6,4,5,6]`\n",
        "* `Output  : [1,2,3,4,5,6]`"
      ],
      "metadata": {
        "id": "VY6rVrZRHfRX"
      }
    },
    {
      "cell_type": "code",
      "source": [
        "list = [1,2,3,1,2,3,4,5,6,4,5,6]\n",
        "set(list)"
      ],
      "metadata": {
        "colab": {
          "base_uri": "https://localhost:8080/"
        },
        "id": "Xdxy5BmK96Bg",
        "outputId": "63535aad-a9a6-4bef-f9a8-5e094a37f9f0"
      },
      "execution_count": null,
      "outputs": [
        {
          "output_type": "execute_result",
          "data": {
            "text/plain": [
              "{1, 2, 3, 4, 5, 6}"
            ]
          },
          "metadata": {},
          "execution_count": 44
        }
      ]
    },
    {
      "cell_type": "markdown",
      "source": [],
      "metadata": {
        "id": "LJMftH-C_wMb"
      }
    },
    {
      "cell_type": "markdown",
      "source": [
        "# **Exercise 11:**\n",
        "\n",
        "Modify the code below"
      ],
      "metadata": {
        "id": "R8HseONe32-o"
      }
    },
    {
      "cell_type": "code",
      "source": [
        "books = {\n",
        "    \"Life of Pi\": \"Adventure Fiction\", \n",
        "    \"The Three Musketeers\": \"Historical Adventure\",\n",
        "    \"Watchmen\": \"Comics\", \n",
        "    \"Bird Box\": \"Horror\",\n",
        "    \"Harry Potter\":\"Fantasy Fiction\",\n",
        "    \"Good Omens\": \"Comedy\"\n",
        "}\n",
        "\n",
        "book = input()\n",
        "\n",
        "#change this part to use the .get() method\n",
        "if(book in books):\n",
        "    print(books[book])\n",
        "else:\n",
        "    print(\"Not Found\")"
      ],
      "metadata": {
        "id": "dkpXuiX283Mm"
      },
      "execution_count": null,
      "outputs": []
    },
    {
      "cell_type": "code",
      "source": [
        "books = {\n",
        "    \"Life of Pi\": \"Adventure Fiction\", \n",
        "    \"The Three Musketeers\": \"Historical Adventure\",\n",
        "    \"Watchmen\": \"Comics\", \n",
        "    \"Bird Box\": \"Horror\",\n",
        "    \"Harry Potter\":\"Fantasy Fiction\",\n",
        "    \"Good Omens\": \"Comedy\"\n",
        "}\n",
        "\n",
        "book = input(\"Please enter the book name you're lookig for: \")\n",
        "if book in books:\n",
        "  print (f\"The book of {book} is located in {books.get(book)} section\")\n",
        "else:\n",
        "  print(\"Book Not Found\")\n"
      ],
      "metadata": {
        "id": "CrF-Zbb4bLva"
      },
      "execution_count": null,
      "outputs": []
    },
    {
      "cell_type": "markdown",
      "source": [],
      "metadata": {
        "id": "9dZLuF8AABF3"
      }
    },
    {
      "cell_type": "markdown",
      "source": [
        "# **Exercise 12:**\n",
        "\n",
        "Write a program to calculate the Euclidean Distance between two points\n",
        "\n",
        "![](https://miro.medium.com/max/277/1*IVy5Ozk6e3sQtG_wuKo19A.jpeg)\n"
      ],
      "metadata": {
        "id": "8XSxNew9332H"
      }
    },
    {
      "cell_type": "code",
      "source": [
        "p1 = (1,2)\n",
        "p2 = (3,4)\n",
        "distance = ((p1[1]-p1[0])**2)+((p2[1]-p2[0])**2)**0.5\n",
        "print (f\"The  Euclidean Distance between {p1} and {p2} is {distance}\")\n",
        "#calculate distance "
      ],
      "metadata": {
        "id": "N97Ls9uz90bM",
        "colab": {
          "base_uri": "https://localhost:8080/"
        },
        "outputId": "ce8bf697-4e04-4cf3-8f56-629edac23db9"
      },
      "execution_count": null,
      "outputs": [
        {
          "output_type": "stream",
          "name": "stdout",
          "text": [
            "The  Euclidean Distance between (1, 2) and (3, 4) is 2.0\n"
          ]
        }
      ]
    },
    {
      "cell_type": "markdown",
      "source": [],
      "metadata": {
        "id": "mT7TOSQJALqd"
      }
    },
    {
      "cell_type": "markdown",
      "source": [
        "# **Exercise 13:**\n",
        "\n",
        "Write a program to calculate how many sentances and words in the following paragraph"
      ],
      "metadata": {
        "id": "UFXwSrfN335T"
      }
    },
    {
      "cell_type": "code",
      "source": [
        "paragraph = ''' Hello Friends. This is a light exercise. Try splitting! '''\n",
        "no_sent = len (paragraph.split('.' or '!'))\n",
        "no_word = len (paragraph.split())\n",
        "print (f\"number of sentences is {no_sent}\")\n",
        "print (f\"number of words is {no_word}\")\n",
        "\n",
        "# calculate No. of Sentences & No. of words"
      ],
      "metadata": {
        "id": "nn0apEJp-X48",
        "colab": {
          "base_uri": "https://localhost:8080/"
        },
        "outputId": "afb90038-432b-4845-ad5c-621b9a186aa3"
      },
      "execution_count": null,
      "outputs": [
        {
          "output_type": "stream",
          "name": "stdout",
          "text": [
            "number of sentences is 3\n",
            "number of words is 9\n"
          ]
        }
      ]
    }
  ]
}